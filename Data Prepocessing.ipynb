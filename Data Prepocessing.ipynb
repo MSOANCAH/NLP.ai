{
 "cells": [
  {
   "cell_type": "code",
   "execution_count": 1,
   "metadata": {
    "collapsed": true
   },
   "outputs": [],
   "source": [
    "import nltk\n",
    "from nltk.tokenize import word_tokenize\n",
    "import numpy as np\n",
    "import random\n",
    "import pickle\n",
    "from collections import Counter\n",
    "from nltk.stem import WordNetLemmatizer\n",
    "lemmatizer = WordNetLemmatizer()"
   ]
  },
  {
   "cell_type": "code",
   "execution_count": 2,
   "metadata": {
    "collapsed": false
   },
   "outputs": [],
   "source": [
    "import os\n",
    "os.chdir(\"C:/Users/Madhu/NLP/Senti\")\n",
    "pos_data = \"pos.txt\"\n",
    "neg_data = \"neg.txt\""
   ]
  },
  {
   "cell_type": "code",
   "execution_count": 3,
   "metadata": {
    "collapsed": true
   },
   "outputs": [],
   "source": [
    "max_lines=100000"
   ]
  },
  {
   "cell_type": "code",
   "execution_count": 4,
   "metadata": {
    "collapsed": false
   },
   "outputs": [],
   "source": [
    "def create_lexicon(pos,neg):\n",
    "    \n",
    "    lexicon=[]\n",
    "    # read files\n",
    "    with open(pos,\"r\") as pos_f:\n",
    "        lines = pos_f.readlines()\n",
    "        \n",
    "        #for every line add tokens to lexicon\n",
    "        for line in lines[:max_lines]:\n",
    "            tokens=word_tokenize(line)\n",
    "            lexicon+=list(tokens)\n",
    "    \n",
    "    with open(neg,\"r\") as neg_f:\n",
    "        lines = neg_f.readlines()\n",
    "        \n",
    "        for line in lines[:max_lines]:\n",
    "            tokens=word_tokenize(line)\n",
    "            lexicon+=list(tokens)\n",
    "    \n",
    "    #lemmatize the word like running,runs,ran---run\n",
    "    lexicon = [lemmatizer.lemmatize(word) for word in lexicon]\n",
    "    #get unique words with count\n",
    "    words_count = Counter(lexicon)\n",
    "    \n",
    "    w_count_filter = []\n",
    "    #get most repeative words between 50-1000\n",
    "    for word_count in words_count:\n",
    "        if 1000 > words_count[word_count] > 50:\n",
    "            w_count_filter.append(word_count)\n",
    "            \n",
    "    return w_count_filter"
   ]
  },
  {
   "cell_type": "code",
   "execution_count": 5,
   "metadata": {
    "collapsed": true
   },
   "outputs": [],
   "source": [
    "def sample_handling(file,lexicon,classification):\n",
    "\n",
    "    featureset = []\n",
    "    #read files pos and neg\n",
    "    with open(file,'r') as f:\n",
    "        lines = f.readlines()\n",
    "        \n",
    "        #tokenize and lemmatize\n",
    "        for line in lines[:max_lines]:\n",
    "            tokens = word_tokenize(line.lower())\n",
    "            tokens = [lemmatizer.lemmatize(word) for word in tokens]\n",
    "            \n",
    "            #feaures of lexicon (useful words) \n",
    "            #get a feature vector for every line [0,0,0,0,,0,1,0,0,0,1,0.......]\n",
    "            features = np.zeros(len(lexicon))\n",
    "            for word in tokens:\n",
    "                if word.lower() in lexicon:\n",
    "                    index_value = lexicon.index(word.lower())\n",
    "                    features[index_value] += 1\n",
    "\n",
    "            features = list(features)\n",
    "            featureset.append([features,classification])\n",
    "\n",
    "    return featureset"
   ]
  },
  {
   "cell_type": "code",
   "execution_count": 6,
   "metadata": {
    "collapsed": true
   },
   "outputs": [],
   "source": [
    "def create_feature_sets_and_labels(test_size=0.1):\n",
    "    \n",
    "    lexicon = create_lexicon(pos_data,neg_data)\n",
    "    \n",
    "    features = []\n",
    "    \n",
    "    features += sample_handling(pos_data,lexicon,[1,0])\n",
    "    features += sample_handling(neg_data,lexicon,[0,1])\n",
    "    \n",
    "    random.shuffle(features)\n",
    "    features = np.array(features)\n",
    "    \n",
    "    \n",
    "    testing_size = int(test_size*len(features))\n",
    "\n",
    "    train_x = list(features[:,0][:-testing_size])\n",
    "    train_y = list(features[:,1][:-testing_size])\n",
    "    \n",
    "    test_x = list(features[:,0][-testing_size:])\n",
    "    test_y = list(features[:,1][-testing_size:])\n",
    "\n",
    "    return train_x,train_y,test_x,test_y"
   ]
  },
  {
   "cell_type": "code",
   "execution_count": 7,
   "metadata": {
    "collapsed": false
   },
   "outputs": [],
   "source": [
    "if __name__ == '__main__':\n",
    "    train_x,train_y,test_x,test_y = create_feature_sets_and_labels()\n",
    "    # if you want to pickle this data:\n",
    "    with open('C:/Users/Madhu/NLP/Senti/sentiment_set.pickle','wb') as f:\n",
    "        pickle.dump([train_x,train_y,test_x,test_y],f)"
   ]
  },
  {
   "cell_type": "code",
   "execution_count": null,
   "metadata": {
    "collapsed": true
   },
   "outputs": [],
   "source": []
  }
 ],
 "metadata": {
  "kernelspec": {
   "display_name": "Python 3",
   "language": "python",
   "name": "python3"
  },
  "language_info": {
   "codemirror_mode": {
    "name": "ipython",
    "version": 3
   },
   "file_extension": ".py",
   "mimetype": "text/x-python",
   "name": "python",
   "nbconvert_exporter": "python",
   "pygments_lexer": "ipython3",
   "version": "3.6.0"
  }
 },
 "nbformat": 4,
 "nbformat_minor": 2
}
