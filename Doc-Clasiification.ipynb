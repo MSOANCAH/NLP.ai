{
 "cells": [
  {
   "cell_type": "markdown",
   "metadata": {},
   "source": [
    "This example uses a scipy.sparse matrix to store the features and demonstrates various classifiers that can efficiently handle sparse matrices."
   ]
  },
  {
   "cell_type": "code",
   "execution_count": null,
   "metadata": {
    "collapsed": true
   },
   "outputs": [],
   "source": [
    "# parsing command line arguments \n",
    "'''from optparse import OptionParser\n",
    "def main():\n",
    "    \n",
    "    op = OptionParser()\n",
    "\n",
    "    #adding new option\n",
    "    op.add_option(\"--report\",action=\"store_true\",dest=\"print_report\",\n",
    "             help=\"Print a detailed classification report.\")\n",
    "\n",
    "    op.add_option(\"--chi2_select\",action=\"store\",type=\"int\",dest=\"select_chi2\",\n",
    "             help=\"Select some number of features using a chi-squared test\")\n",
    "\n",
    "    op.add_option(\"--confusion_matrix\",action=\"store_true\", dest=\"print_cm\",\n",
    "              help=\"Print the confusion matrix.\")\n",
    "\n",
    "    op.add_option(\"--top10\",action=\"store_true\", dest=\"print_top10\",\n",
    "              help=\"Print ten most discriminative terms per class\"\n",
    "                   \" for every classifier.\")\n",
    "\n",
    "    op.add_option(\"--all_categories\",action=\"store_true\", dest=\"all_categories\",\n",
    "              help=\"Whether to use all categories or not.\")\n",
    "\n",
    "    op.add_option(\"--use_hashing\",action=\"store_true\",\n",
    "              help=\"Use a hashing vectorizer.\")\n",
    "\n",
    "    op.add_option(\"--n_features\",action=\"store\", type=int, default=2 ** 16,\n",
    "              help=\"n_features when using the hashing vectorizer.\")\n",
    "\n",
    "    op.add_option(\"--filtered\",action=\"store_true\",\n",
    "              help=\"Remove newsgroup information that is easily overfit: \"\n",
    "                   \"headers, signatures, and quoting.\")\n",
    "\n",
    "    (opts,args) = op.parse_args()\n",
    "    print(opts)\n",
    "    print(args)\n",
    "    '''\n"
   ]
  },
  {
   "cell_type": "code",
   "execution_count": 1,
   "metadata": {
    "collapsed": false
   },
   "outputs": [
    {
     "name": "stdout",
     "output_type": "stream",
     "text": [
      "Loading 20 newsgroups dataset for categories:\n",
      "['alt.atheism', 'talk.religion.misc', 'comp.graphics', 'sci.space']\n",
      "data loaded\n"
     ]
    }
   ],
   "source": [
    "from sklearn.datasets import fetch_20newsgroups\n",
    "\n",
    "categories = [\n",
    "        'alt.atheism',\n",
    "        'talk.religion.misc',\n",
    "        'comp.graphics',\n",
    "        'sci.space',\n",
    "    ]\n",
    "remove = ('headers', 'footers', 'quotes')\n",
    "print(\"Loading 20 newsgroups dataset for categories:\")\n",
    "print(categories)\n",
    "print('data loaded')\n",
    "train = fetch_20newsgroups(subset='train',categories=categories,\n",
    "                          shuffle=True,random_state=42,remove=remove)\n",
    "test = fetch_20newsgroups(subset='test',categories=categories,\n",
    "                          shuffle=True,random_state=42,remove=remove)"
   ]
  },
  {
   "cell_type": "code",
   "execution_count": 2,
   "metadata": {
    "collapsed": false
   },
   "outputs": [
    {
     "data": {
      "text/plain": [
       "dict_keys(['data', 'filenames', 'target_names', 'target', 'DESCR', 'description'])"
      ]
     },
     "execution_count": 2,
     "metadata": {},
     "output_type": "execute_result"
    }
   ],
   "source": [
    "train.keys()"
   ]
  },
  {
   "cell_type": "code",
   "execution_count": 3,
   "metadata": {
    "collapsed": false
   },
   "outputs": [
    {
     "name": "stdout",
     "output_type": "stream",
     "text": [
      "['alt.atheism', 'comp.graphics', 'sci.space', 'talk.religion.misc']\n",
      "\n",
      "[1 3 2 0 2 0 2 1 2 1]\n",
      "\n",
      "Hi,\n",
      "\n",
      "I've noticed that if you only save a model (with all your mapping planes\n",
      "positioned carefully) to a .3DS file that when you reload it after restarting\n",
      "3DS, they are given a default position and orientation.  But if you save\n",
      "to a .PRJ file their positions/orientation are preserved.  Does anyone\n",
      "know why this information is not stored in the .3DS file?  Nothing is\n",
      "explicitly said in the manual about saving texture rules in the .PRJ file. \n",
      "I'd like to be able to read the texture rule information, does anyone have \n",
      "the format for the .PRJ file?\n",
      "\n",
      "Is the .CEL file format available from somewhere?\n",
      "\n",
      "Rych\n"
     ]
    }
   ],
   "source": [
    "print(train['target_names'])\n",
    "print()\n",
    "print(train['target'][:10])\n",
    "print()\n",
    "print(train['data'][0])"
   ]
  },
  {
   "cell_type": "code",
   "execution_count": 4,
   "metadata": {
    "collapsed": false
   },
   "outputs": [
    {
     "name": "stdout",
     "output_type": "stream",
     "text": [
      "1st document text length is : 608\n",
      "1st document text length is : 38\n",
      "2034 documents - 2.428MB (training set)\n",
      "1353 documents - 1.800MB (test set)\n",
      "4 categories\n",
      "\n"
     ]
    }
   ],
   "source": [
    "def size_mb(docs):\n",
    "    print(\"1st document text length is : {}\".format(len(docs[0].encode('utf-8'))) )\n",
    "    return sum(len(s.encode('utf-8')) for s in docs) / 1e6\n",
    "\n",
    "data_train_size_mb = size_mb(train.data)\n",
    "data_test_size_mb = size_mb(test.data)\n",
    "\n",
    "print(\"%d documents - %0.3fMB (training set)\" % (\n",
    "    len(train.data), data_train_size_mb))\n",
    "print(\"%d documents - %0.3fMB (test set)\" % (\n",
    "    len(test.data), data_test_size_mb))\n",
    "print(\"%d categories\" % len(categories))\n",
    "print()"
   ]
  },
  {
   "cell_type": "code",
   "execution_count": 5,
   "metadata": {
    "collapsed": true
   },
   "outputs": [],
   "source": [
    "# split a training set and a test set\n",
    "Y_train , Y_test = train.target , test.target\n",
    "target_names = train.target_names"
   ]
  },
  {
   "cell_type": "markdown",
   "metadata": {},
   "source": [
    "If n_samples == 10000, storing X as a numpy array of type float32 would require 10000 x 100000 x 4 bytes = 4GB in RAM\n",
    "Fortunately, most values in X will be zeros since for a given document less than a couple thousands of distinct words will be used. \n",
    "For this reason we say that bags of words are typically high-dimensional sparse datasets. \n",
    "We can save a lot of memory by only storing the non-zero parts of the feature vectors in memory."
   ]
  },
  {
   "cell_type": "markdown",
   "metadata": {},
   "source": [
    "# Extracting features from the training data using a sparse vectorizer"
   ]
  },
  {
   "cell_type": "markdown",
   "metadata": {},
   "source": [
    "From occurrences to frequencies\n",
    "divide the number of occurrences of each word in a document by the total number of words in the document: \n",
    "these new features are called tf for Term Frequencies.\n",
    "\n",
    "to downscale weights for words that occur in many documents in the corpus and are therefore less informative than those that occur only in a smaller portion of the corpus.\n",
    "This downscaling is called tf–idf for “Term Frequency times Inverse Document Frequency”.\n",
    "Both tf and tf–idf can be computed as follows:"
   ]
  },
  {
   "cell_type": "code",
   "execution_count": 6,
   "metadata": {
    "collapsed": false
   },
   "outputs": [
    {
     "name": "stdout",
     "output_type": "stream",
     "text": [
      "Extracting features from the training data using a sparse vectorizer\n",
      "done in 0.461553s at 5.260MB/s\n",
      "n_samples: 2034, n_features: 26576\n",
      "\n"
     ]
    }
   ],
   "source": [
    "print(\"Extracting features from the training data using a sparse vectorizer\") \n",
    "from time import time\n",
    "from sklearn.feature_extraction.text import TfidfVectorizer\n",
    "t0= time()\n",
    "\n",
    "vectorizer = TfidfVectorizer(sublinear_tf=True, max_df=0.5,\n",
    "                                 stop_words='english')\n",
    "X_train = vectorizer.fit_transform(train.data)  # the fit(..) method to fit our estimator to the data and \n",
    "                                                #secondly the transform(..) method to transform our count-matrix to a tf-idf representation.\n",
    "duration = time() - t0\n",
    "print(\"done in %fs at %0.3fMB/s\" % (duration, data_train_size_mb / duration))\n",
    "print(\"n_samples: %d, n_features: %d\" % X_train.shape)\n",
    "print()"
   ]
  },
  {
   "cell_type": "code",
   "execution_count": 7,
   "metadata": {
    "collapsed": false
   },
   "outputs": [
    {
     "name": "stdout",
     "output_type": "stream",
     "text": [
      "Extracting features from the test data using the same vectorizer\n",
      "done in 0.283921s at 6.339MB/s\n",
      "n_samples: 1353, n_features: 26576\n",
      "\n"
     ]
    }
   ],
   "source": [
    "print(\"Extracting features from the test data using the same vectorizer\")\n",
    "t0 = time()\n",
    "X_test = vectorizer.transform(test.data)\n",
    "duration = time() - t0\n",
    "print(\"done in %fs at %0.3fMB/s\" % (duration, data_test_size_mb / duration))\n",
    "print(\"n_samples: %d, n_features: %d\" % X_test.shape)\n",
    "print()"
   ]
  },
  {
   "cell_type": "code",
   "execution_count": 8,
   "metadata": {
    "collapsed": true
   },
   "outputs": [],
   "source": [
    "#training models\n",
    "from sklearn.linear_model import RidgeClassifier\n",
    "from sklearn.pipeline import Pipeline\n",
    "from sklearn.svm import LinearSVC\n",
    "from sklearn.linear_model import SGDClassifier\n",
    "from sklearn.linear_model import Perceptron\n",
    "from sklearn.linear_model import PassiveAggressiveClassifier\n",
    "from sklearn.naive_bayes import BernoulliNB, MultinomialNB\n",
    "from sklearn.neighbors import KNeighborsClassifier\n",
    "from sklearn.neighbors import NearestCentroid\n",
    "from sklearn.ensemble import RandomForestClassifier\n",
    "from sklearn.utils.extmath import density\n",
    "from sklearn import metrics\n"
   ]
  },
  {
   "cell_type": "code",
   "execution_count": 9,
   "metadata": {
    "collapsed": true
   },
   "outputs": [],
   "source": [
    "def model(clf):\n",
    "    print('_' * 80)\n",
    "    print(\"Training: \")\n",
    "    print(clf)\n",
    "    \n",
    "    t0 = time()\n",
    "    clf.fit(X_train,Y_train)\n",
    "    train_time = time() - t0\n",
    "    \n",
    "    print(\"train time: %0.3fs\" % train_time)\n",
    "\n",
    "    t0 = time()\n",
    "    pred = clf.predict(X_test)\n",
    "    test_time = time() - t0\n",
    "    \n",
    "    print(\"test time:  %0.3fs\" % test_time)\n",
    "    \n",
    "    score = metrics.accuracy_score(Y_test, pred)\n",
    "    print(\"accuracy:   %0.3f\" % score)\n",
    "    \n",
    "    print(\"classification report:\")\n",
    "    print(metrics.classification_report(Y_test, pred,\n",
    "                                            target_names=target_names))\n",
    "\n",
    "    print(\"confusion matrix:\")\n",
    "    print(metrics.confusion_matrix(Y_test, pred))\n",
    "\n",
    "    print()\n",
    "    clf_descr = str(clf).split('(')[0]\n",
    "    return clf_descr, score, train_time, test_time"
   ]
  },
  {
   "cell_type": "code",
   "execution_count": 10,
   "metadata": {
    "collapsed": false
   },
   "outputs": [
    {
     "name": "stdout",
     "output_type": "stream",
     "text": [
      "================================================================================\n",
      "Ridge Classifier\n",
      "________________________________________________________________________________\n",
      "Training: \n",
      "RidgeClassifier(alpha=1.0, class_weight=None, copy_X=True, fit_intercept=True,\n",
      "        max_iter=None, normalize=False, random_state=None, solver='lsqr',\n",
      "        tol=0.01)\n"
     ]
    },
    {
     "name": "stderr",
     "output_type": "stream",
     "text": [
      "C:\\Users\\Madhu\\AppData\\Local\\Continuum\\Anaconda3\\lib\\site-packages\\sklearn\\linear_model\\ridge.py:311: UserWarning: In Ridge, only 'sag' solver can currently fit the intercept when X is sparse. Solver has been automatically changed into 'sag'.\n",
      "  warnings.warn(\"In Ridge, only 'sag' solver can currently fit the \"\n"
     ]
    },
    {
     "name": "stdout",
     "output_type": "stream",
     "text": [
      "train time: 0.228s\n",
      "test time:  0.002s\n",
      "accuracy:   0.777\n",
      "classification report:\n",
      "                    precision    recall  f1-score   support\n",
      "\n",
      "       alt.atheism       0.69      0.61      0.65       319\n",
      "     comp.graphics       0.89      0.92      0.90       389\n",
      "         sci.space       0.77      0.90      0.83       394\n",
      "talk.religion.misc       0.70      0.59      0.64       251\n",
      "\n",
      "       avg / total       0.77      0.78      0.77      1353\n",
      "\n",
      "confusion matrix:\n",
      "[[195  11  55  58]\n",
      " [  7 356  24   2]\n",
      " [ 18  20 353   3]\n",
      " [ 61  15  28 147]]\n",
      "\n",
      "================================================================================\n",
      "Perceptron\n",
      "________________________________________________________________________________\n",
      "Training: \n",
      "Perceptron(alpha=0.0001, class_weight=None, eta0=1.0, fit_intercept=True,\n",
      "      n_iter=50, n_jobs=1, penalty=None, random_state=0, shuffle=True,\n",
      "      verbose=0, warm_start=False)\n",
      "train time: 0.108s\n",
      "test time:  0.002s\n",
      "accuracy:   0.749\n",
      "classification report:\n",
      "                    precision    recall  f1-score   support\n",
      "\n",
      "       alt.atheism       0.61      0.68      0.64       319\n",
      "     comp.graphics       0.88      0.86      0.87       389\n",
      "         sci.space       0.83      0.79      0.81       394\n",
      "talk.religion.misc       0.63      0.60      0.61       251\n",
      "\n",
      "       avg / total       0.75      0.75      0.75      1353\n",
      "\n",
      "confusion matrix:\n",
      "[[218  15  26  60]\n",
      " [ 21 335  23  10]\n",
      " [ 47  19 311  17]\n",
      " [ 74  12  15 150]]\n",
      "\n",
      "================================================================================\n",
      "Passive-Aggressive\n",
      "________________________________________________________________________________\n",
      "Training: \n",
      "PassiveAggressiveClassifier(C=1.0, class_weight=None, fit_intercept=True,\n",
      "              loss='hinge', n_iter=50, n_jobs=1, random_state=None,\n",
      "              shuffle=True, verbose=0, warm_start=False)\n",
      "train time: 0.121s\n",
      "test time:  0.001s\n",
      "accuracy:   0.778\n",
      "classification report:\n",
      "                    precision    recall  f1-score   support\n",
      "\n",
      "       alt.atheism       0.68      0.62      0.65       319\n",
      "     comp.graphics       0.90      0.90      0.90       389\n",
      "         sci.space       0.79      0.89      0.84       394\n",
      "talk.religion.misc       0.67      0.61      0.64       251\n",
      "\n",
      "       avg / total       0.77      0.78      0.77      1353\n",
      "\n",
      "confusion matrix:\n",
      "[[199  11  44  65]\n",
      " [  9 349  27   4]\n",
      " [ 18  18 352   6]\n",
      " [ 66  11  21 153]]\n",
      "\n",
      "================================================================================\n",
      "kNN\n",
      "________________________________________________________________________________\n",
      "Training: \n",
      "KNeighborsClassifier(algorithm='auto', leaf_size=30, metric='minkowski',\n",
      "           metric_params=None, n_jobs=1, n_neighbors=10, p=2,\n",
      "           weights='uniform')\n",
      "train time: 0.002s\n",
      "test time:  0.134s\n",
      "accuracy:   0.253\n",
      "classification report:\n",
      "                    precision    recall  f1-score   support\n",
      "\n",
      "       alt.atheism       0.23      0.29      0.25       319\n",
      "     comp.graphics       0.28      0.31      0.29       389\n",
      "         sci.space       0.31      0.18      0.23       394\n",
      "talk.religion.misc       0.20      0.24      0.22       251\n",
      "\n",
      "       avg / total       0.26      0.25      0.25      1353\n",
      "\n",
      "confusion matrix:\n",
      "[[ 92  94  60  73]\n",
      " [133 121  57  78]\n",
      " [107 135  70  82]\n",
      " [ 74  82  36  59]]\n",
      "\n",
      "================================================================================\n",
      "Random forest\n",
      "________________________________________________________________________________\n",
      "Training: \n",
      "RandomForestClassifier(bootstrap=True, class_weight=None, criterion='gini',\n",
      "            max_depth=None, max_features='auto', max_leaf_nodes=None,\n",
      "            min_impurity_split=1e-07, min_samples_leaf=1,\n",
      "            min_samples_split=2, min_weight_fraction_leaf=0.0,\n",
      "            n_estimators=100, n_jobs=1, oob_score=False, random_state=None,\n",
      "            verbose=0, warm_start=False)\n",
      "train time: 5.157s\n",
      "test time:  0.116s\n",
      "accuracy:   0.722\n",
      "classification report:\n",
      "                    precision    recall  f1-score   support\n",
      "\n",
      "       alt.atheism       0.60      0.66      0.62       319\n",
      "     comp.graphics       0.79      0.90      0.84       389\n",
      "         sci.space       0.78      0.80      0.79       394\n",
      "talk.religion.misc       0.67      0.40      0.50       251\n",
      "\n",
      "       avg / total       0.72      0.72      0.71      1353\n",
      "\n",
      "confusion matrix:\n",
      "[[209  22  44  44]\n",
      " [ 15 351  22   1]\n",
      " [ 28  46 316   4]\n",
      " [ 98  27  25 101]]\n",
      "\n"
     ]
    }
   ],
   "source": [
    "results=[]\n",
    "\n",
    "for clf,name in (\n",
    "        (RidgeClassifier(tol=1e-2, solver=\"lsqr\"), \"Ridge Classifier\"),\n",
    "        (Perceptron(n_iter=50), \"Perceptron\"),\n",
    "        (PassiveAggressiveClassifier(n_iter=50), \"Passive-Aggressive\"),\n",
    "        (KNeighborsClassifier(n_neighbors=10), \"kNN\"),\n",
    "        (RandomForestClassifier(n_estimators=100), \"Random forest\")):\n",
    "    print('=' * 80)\n",
    "    print(name)\n",
    "    results.append(model(clf))"
   ]
  },
  {
   "cell_type": "code",
   "execution_count": 11,
   "metadata": {
    "collapsed": false
   },
   "outputs": [
    {
     "name": "stdout",
     "output_type": "stream",
     "text": [
      "================================================================================\n",
      "L2 penalty\n",
      "________________________________________________________________________________\n",
      "Training: \n",
      "LinearSVC(C=1.0, class_weight=None, dual=False, fit_intercept=True,\n",
      "     intercept_scaling=1, loss='l2', max_iter=1000, multi_class='ovr',\n",
      "     penalty='l2', random_state=None, tol=0.001, verbose=0)\n",
      "train time: 0.112s\n",
      "test time:  0.002s\n",
      "accuracy:   0.780\n",
      "classification report:\n",
      "                    precision    recall  f1-score   support\n",
      "\n",
      "       alt.atheism       0.69      0.62      0.66       319\n",
      "     comp.graphics       0.89      0.91      0.90       389\n",
      "         sci.space       0.78      0.90      0.84       394\n",
      "talk.religion.misc       0.68      0.60      0.64       251\n",
      "\n",
      "       avg / total       0.77      0.78      0.78      1353\n",
      "\n",
      "confusion matrix:\n",
      "[[198  11  48  62]\n",
      " [  7 353  25   4]\n",
      " [ 17  20 353   4]\n",
      " [ 63  13  24 151]]\n",
      "\n",
      "________________________________________________________________________________\n",
      "Training: \n",
      "SGDClassifier(alpha=0.0001, average=False, class_weight=None, epsilon=0.1,\n",
      "       eta0=0.0, fit_intercept=True, l1_ratio=0.15,\n",
      "       learning_rate='optimal', loss='hinge', n_iter=50, n_jobs=1,\n",
      "       penalty='l2', power_t=0.5, random_state=None, shuffle=True,\n",
      "       verbose=0, warm_start=False)\n"
     ]
    },
    {
     "name": "stderr",
     "output_type": "stream",
     "text": [
      "C:\\Users\\Madhu\\AppData\\Local\\Continuum\\Anaconda3\\lib\\site-packages\\sklearn\\svm\\classes.py:199: DeprecationWarning: loss='l2' has been deprecated in favor of loss='squared_hinge' as of 0.16. Backward compatibility for the loss='l2' will be removed in 1.0\n",
      "  DeprecationWarning)\n"
     ]
    },
    {
     "name": "stdout",
     "output_type": "stream",
     "text": [
      "train time: 0.119s\n",
      "test time:  0.002s\n",
      "accuracy:   0.776\n",
      "classification report:\n",
      "                    precision    recall  f1-score   support\n",
      "\n",
      "       alt.atheism       0.70      0.61      0.65       319\n",
      "     comp.graphics       0.89      0.90      0.89       389\n",
      "         sci.space       0.78      0.89      0.83       394\n",
      "talk.religion.misc       0.67      0.62      0.64       251\n",
      "\n",
      "       avg / total       0.77      0.78      0.77      1353\n",
      "\n",
      "confusion matrix:\n",
      "[[195  13  48  63]\n",
      " [  7 350  25   7]\n",
      " [ 18  20 349   7]\n",
      " [ 59  12  24 156]]\n",
      "\n",
      "================================================================================\n",
      "L1 penalty\n",
      "________________________________________________________________________________\n",
      "Training: \n",
      "LinearSVC(C=1.0, class_weight=None, dual=False, fit_intercept=True,\n",
      "     intercept_scaling=1, loss='l2', max_iter=1000, multi_class='ovr',\n",
      "     penalty='l1', random_state=None, tol=0.001, verbose=0)\n",
      "train time: 0.173s\n",
      "test time:  0.002s\n",
      "accuracy:   0.746\n",
      "classification report:\n",
      "                    precision    recall  f1-score   support\n",
      "\n",
      "       alt.atheism       0.68      0.59      0.63       319\n",
      "     comp.graphics       0.88      0.87      0.87       389\n",
      "         sci.space       0.73      0.88      0.80       394\n",
      "talk.religion.misc       0.64      0.55      0.59       251\n",
      "\n",
      "       avg / total       0.74      0.75      0.74      1353\n",
      "\n",
      "confusion matrix:\n",
      "[[187  11  52  69]\n",
      " [  8 338  38   5]\n",
      " [ 22  22 346   4]\n",
      " [ 60  14  39 138]]\n",
      "\n",
      "________________________________________________________________________________\n",
      "Training: \n",
      "SGDClassifier(alpha=0.0001, average=False, class_weight=None, epsilon=0.1,\n",
      "       eta0=0.0, fit_intercept=True, l1_ratio=0.15,\n",
      "       learning_rate='optimal', loss='hinge', n_iter=50, n_jobs=1,\n",
      "       penalty='l1', power_t=0.5, random_state=None, shuffle=True,\n",
      "       verbose=0, warm_start=False)\n"
     ]
    },
    {
     "name": "stderr",
     "output_type": "stream",
     "text": [
      "C:\\Users\\Madhu\\AppData\\Local\\Continuum\\Anaconda3\\lib\\site-packages\\sklearn\\svm\\classes.py:199: DeprecationWarning: loss='l2' has been deprecated in favor of loss='squared_hinge' as of 0.16. Backward compatibility for the loss='l2' will be removed in 1.0\n",
      "  DeprecationWarning)\n"
     ]
    },
    {
     "name": "stdout",
     "output_type": "stream",
     "text": [
      "train time: 0.322s\n",
      "test time:  0.002s\n",
      "accuracy:   0.748\n",
      "classification report:\n",
      "                    precision    recall  f1-score   support\n",
      "\n",
      "       alt.atheism       0.68      0.59      0.63       319\n",
      "     comp.graphics       0.88      0.88      0.88       389\n",
      "         sci.space       0.82      0.79      0.80       394\n",
      "talk.religion.misc       0.55      0.68      0.61       251\n",
      "\n",
      "       avg / total       0.75      0.75      0.75      1353\n",
      "\n",
      "confusion matrix:\n",
      "[[187  11  32  89]\n",
      " [  9 344  23  13]\n",
      " [ 23  24 311  36]\n",
      " [ 56  11  14 170]]\n",
      "\n",
      "================================================================================\n",
      "Elastic-Net penalty\n",
      "________________________________________________________________________________\n",
      "Training: \n",
      "SGDClassifier(alpha=0.0001, average=False, class_weight=None, epsilon=0.1,\n",
      "       eta0=0.0, fit_intercept=True, l1_ratio=0.15,\n",
      "       learning_rate='optimal', loss='hinge', n_iter=50, n_jobs=1,\n",
      "       penalty='elasticnet', power_t=0.5, random_state=None, shuffle=True,\n",
      "       verbose=0, warm_start=False)\n",
      "train time: 0.419s\n",
      "test time:  0.001s\n",
      "accuracy:   0.770\n",
      "classification report:\n",
      "                    precision    recall  f1-score   support\n",
      "\n",
      "       alt.atheism       0.70      0.61      0.65       319\n",
      "     comp.graphics       0.88      0.89      0.88       389\n",
      "         sci.space       0.78      0.88      0.83       394\n",
      "talk.religion.misc       0.66      0.61      0.64       251\n",
      "\n",
      "       avg / total       0.77      0.77      0.77      1353\n",
      "\n",
      "confusion matrix:\n",
      "[[195  15  45  64]\n",
      " [  8 346  28   7]\n",
      " [ 16  22 347   9]\n",
      " [ 60  12  25 154]]\n",
      "\n",
      "================================================================================\n",
      "NearestCentroid (aka Rocchio classifier)\n",
      "________________________________________________________________________________\n",
      "Training: \n",
      "NearestCentroid(metric='euclidean', shrink_threshold=None)\n",
      "train time: 0.014s\n",
      "test time:  0.003s\n",
      "accuracy:   0.756\n",
      "classification report:\n",
      "                    precision    recall  f1-score   support\n",
      "\n",
      "       alt.atheism       0.67      0.57      0.61       319\n",
      "     comp.graphics       0.91      0.86      0.88       389\n",
      "         sci.space       0.75      0.90      0.82       394\n",
      "talk.religion.misc       0.63      0.61      0.62       251\n",
      "\n",
      "       avg / total       0.75      0.76      0.75      1353\n",
      "\n",
      "confusion matrix:\n",
      "[[181  10  47  81]\n",
      " [ 12 334  39   4]\n",
      " [ 18  18 354   4]\n",
      " [ 59   6  32 154]]\n",
      "\n",
      "================================================================================\n",
      "Naive Bayes\n",
      "________________________________________________________________________________\n",
      "Training: \n",
      "MultinomialNB(alpha=0.01, class_prior=None, fit_prior=True)\n",
      "train time: 0.005s\n",
      "test time:  0.001s\n",
      "accuracy:   0.788\n",
      "classification report:\n",
      "                    precision    recall  f1-score   support\n",
      "\n",
      "       alt.atheism       0.69      0.67      0.68       319\n",
      "     comp.graphics       0.92      0.89      0.90       389\n",
      "         sci.space       0.80      0.90      0.85       394\n",
      "talk.religion.misc       0.69      0.60      0.64       251\n",
      "\n",
      "       avg / total       0.79      0.79      0.79      1353\n",
      "\n",
      "confusion matrix:\n",
      "[[214   7  36  62]\n",
      " [  9 347  31   2]\n",
      " [ 18  18 354   4]\n",
      " [ 71   7  22 151]]\n",
      "\n",
      "________________________________________________________________________________\n",
      "Training: \n",
      "BernoulliNB(alpha=0.01, binarize=0.0, class_prior=None, fit_prior=True)\n",
      "train time: 0.007s\n",
      "test time:  0.005s\n",
      "accuracy:   0.722\n",
      "classification report:\n",
      "                    precision    recall  f1-score   support\n",
      "\n",
      "       alt.atheism       0.60      0.75      0.67       319\n",
      "     comp.graphics       0.72      0.95      0.82       389\n",
      "         sci.space       0.90      0.69      0.78       394\n",
      "talk.religion.misc       0.70      0.39      0.51       251\n",
      "\n",
      "       avg / total       0.74      0.72      0.71      1353\n",
      "\n",
      "confusion matrix:\n",
      "[[240  29   9  41]\n",
      " [  7 368  14   0]\n",
      " [ 38  85 270   1]\n",
      " [116  29   7  99]]\n",
      "\n",
      "================================================================================\n",
      "LinearSVC with L1-based feature selection\n",
      "________________________________________________________________________________\n",
      "Training: \n",
      "Pipeline(steps=[('feature_selection', LinearSVC(C=1.0, class_weight=None, dual=False, fit_intercept=True,\n",
      "     intercept_scaling=1, loss='squared_hinge', max_iter=1000,\n",
      "     multi_class='ovr', penalty='l1', random_state=None, tol=0.001,\n",
      "     verbose=0)), ('classification', LinearSVC(C=1.0, class_weight=None, dual=True, fit_intercept=True,\n",
      "     intercept_scaling=1, loss='squared_hinge', max_iter=1000,\n",
      "     multi_class='ovr', penalty='l2', random_state=None, tol=0.0001,\n",
      "     verbose=0))])\n",
      "train time: 0.176s\n",
      "test time:  0.004s\n",
      "accuracy:   0.745\n",
      "classification report:\n",
      "                    precision    recall  f1-score   support\n",
      "\n",
      "       alt.atheism       0.67      0.58      0.62       319\n",
      "     comp.graphics       0.86      0.87      0.87       389\n",
      "         sci.space       0.74      0.87      0.80       394\n",
      "talk.religion.misc       0.64      0.56      0.60       251\n",
      "\n",
      "       avg / total       0.74      0.75      0.74      1353\n",
      "\n",
      "confusion matrix:\n",
      "[[185  13  53  68]\n",
      " [  9 340  35   5]\n",
      " [ 17  29 342   6]\n",
      " [ 64  14  32 141]]\n",
      "\n"
     ]
    },
    {
     "name": "stderr",
     "output_type": "stream",
     "text": [
      "C:\\Users\\Madhu\\AppData\\Local\\Continuum\\Anaconda3\\lib\\site-packages\\sklearn\\utils\\deprecation.py:70: DeprecationWarning: Function transform is deprecated; Support to use estimators as feature selectors will be removed in version 0.19. Use SelectFromModel instead.\n",
      "  warnings.warn(msg, category=DeprecationWarning)\n",
      "C:\\Users\\Madhu\\AppData\\Local\\Continuum\\Anaconda3\\lib\\site-packages\\sklearn\\utils\\deprecation.py:70: DeprecationWarning: Function transform is deprecated; Support to use estimators as feature selectors will be removed in version 0.19. Use SelectFromModel instead.\n",
      "  warnings.warn(msg, category=DeprecationWarning)\n"
     ]
    }
   ],
   "source": [
    "for penalty in [\"l2\", \"l1\"]:\n",
    "    print('=' * 80)\n",
    "    print(\"%s penalty\" % penalty.upper())\n",
    "    # Train Liblinear model\n",
    "    results.append(model(LinearSVC(loss='l2', penalty=penalty,\n",
    "                                            dual=False, tol=1e-3)))\n",
    "\n",
    "    # Train SGD model\n",
    "    results.append(model(SGDClassifier(alpha=.0001, n_iter=50,\n",
    "                                           penalty=penalty)))\n",
    "\n",
    "# Train SGD with Elastic Net penalty\n",
    "print('=' * 80)\n",
    "print(\"Elastic-Net penalty\")\n",
    "results.append(model(SGDClassifier(alpha=.0001, n_iter=50,\n",
    "                                       penalty=\"elasticnet\")))\n",
    "\n",
    "# Train NearestCentroid without threshold\n",
    "print('=' * 80)\n",
    "print(\"NearestCentroid (aka Rocchio classifier)\")\n",
    "results.append(model(NearestCentroid()))\n",
    "\n",
    "# Train sparse Naive Bayes classifiers\n",
    "print('=' * 80)\n",
    "print(\"Naive Bayes\")\n",
    "results.append(model(MultinomialNB(alpha=.01)))\n",
    "results.append(model(BernoulliNB(alpha=.01)))\n",
    "\n",
    "print('=' * 80)\n",
    "print(\"LinearSVC with L1-based feature selection\")\n",
    "# The smaller C, the stronger the regularization.\n",
    "# The more regularization, the more sparsity.\n",
    "results.append(model(Pipeline([\n",
    "  ('feature_selection', LinearSVC(penalty=\"l1\", dual=False, tol=1e-3)),\n",
    "  ('classification', LinearSVC())\n",
    "])))"
   ]
  },
  {
   "cell_type": "code",
   "execution_count": 12,
   "metadata": {
    "collapsed": false
   },
   "outputs": [
    {
     "name": "stdout",
     "output_type": "stream",
     "text": [
      "[('RidgeClassifier', 0.77679231337767918, 0.22768950462341309, 0.002040386199951172), ('Perceptron', 0.74944567627494452, 0.10830068588256836, 0.0015037059783935547), ('PassiveAggressiveClassifier', 0.7782705099778271, 0.12133002281188965, 0.0010027885437011719), ('KNeighborsClassifier', 0.25277161862527714, 0.0020062923431396484, 0.1339261531829834), ('RandomForestClassifier', 0.72209903917220986, 5.1566407680511475, 0.11578011512756348), ('LinearSVC', 0.7797487065779749, 0.11209297180175781, 0.0015039443969726562), ('SGDClassifier', 0.77605321507760527, 0.11933016777038574, 0.002004861831665039), ('LinearSVC', 0.745750184774575, 0.17347025871276855, 0.0015344619750976562), ('SGDClassifier', 0.74796747967479671, 0.32190632820129395, 0.0020062923431396484), ('SGDClassifier', 0.77014042867701404, 0.4191577434539795, 0.0010030269622802734), ('NearestCentroid', 0.75609756097560976, 0.014037132263183594, 0.002506732940673828), ('MultinomialNB', 0.78787878787878785, 0.005028247833251953, 0.001001596450805664), ('BernoulliNB', 0.72209903917220986, 0.006516695022583008, 0.0045125484466552734), ('Pipeline', 0.74501108647450109, 0.1764674186706543, 0.0040111541748046875)]\n"
     ]
    }
   ],
   "source": [
    "print(results)"
   ]
  },
  {
   "cell_type": "code",
   "execution_count": 13,
   "metadata": {
    "collapsed": false
   },
   "outputs": [
    {
     "name": "stdout",
     "output_type": "stream",
     "text": [
      "[['RidgeClassifier', 'Perceptron', 'PassiveAggressiveClassifier', 'KNeighborsClassifier', 'RandomForestClassifier', 'LinearSVC', 'SGDClassifier', 'LinearSVC', 'SGDClassifier', 'SGDClassifier', 'NearestCentroid', 'MultinomialNB', 'BernoulliNB', 'Pipeline'], [0.77679231337767918, 0.74944567627494452, 0.7782705099778271, 0.25277161862527714, 0.72209903917220986, 0.7797487065779749, 0.77605321507760527, 0.745750184774575, 0.74796747967479671, 0.77014042867701404, 0.75609756097560976, 0.78787878787878785, 0.72209903917220986, 0.74501108647450109], [0.22768950462341309, 0.10830068588256836, 0.12133002281188965, 0.0020062923431396484, 5.1566407680511475, 0.11209297180175781, 0.11933016777038574, 0.17347025871276855, 0.32190632820129395, 0.4191577434539795, 0.014037132263183594, 0.005028247833251953, 0.006516695022583008, 0.1764674186706543], [0.002040386199951172, 0.0015037059783935547, 0.0010027885437011719, 0.1339261531829834, 0.11578011512756348, 0.0015039443969726562, 0.002004861831665039, 0.0015344619750976562, 0.0020062923431396484, 0.0010030269622802734, 0.002506732940673828, 0.001001596450805664, 0.0045125484466552734, 0.0040111541748046875]]\n"
     ]
    }
   ],
   "source": [
    "#plotting\n",
    "import numpy as np\n",
    "indices = np.arange(len(results))\n",
    "results = [[x[i] for x in results] for i in range(4)]\n",
    "print(results)\n",
    "clf_names, score, training_time, test_time = results\n"
   ]
  },
  {
   "cell_type": "code",
   "execution_count": 14,
   "metadata": {
    "collapsed": false
   },
   "outputs": [
    {
     "data": {
      "text/plain": [
       "['RidgeClassifier',\n",
       " 'Perceptron',\n",
       " 'PassiveAggressiveClassifier',\n",
       " 'KNeighborsClassifier',\n",
       " 'RandomForestClassifier',\n",
       " 'LinearSVC',\n",
       " 'SGDClassifier',\n",
       " 'LinearSVC',\n",
       " 'SGDClassifier',\n",
       " 'SGDClassifier',\n",
       " 'NearestCentroid',\n",
       " 'MultinomialNB',\n",
       " 'BernoulliNB',\n",
       " 'Pipeline']"
      ]
     },
     "execution_count": 14,
     "metadata": {},
     "output_type": "execute_result"
    }
   ],
   "source": [
    "clf_names"
   ]
  },
  {
   "cell_type": "code",
   "execution_count": 15,
   "metadata": {
    "collapsed": true
   },
   "outputs": [],
   "source": [
    "training_time = np.array(training_time) / np.max(training_time)\n",
    "test_time = np.array(test_time) / np.max(test_time)"
   ]
  },
  {
   "cell_type": "code",
   "execution_count": 16,
   "metadata": {
    "collapsed": false
   },
   "outputs": [
    {
     "data": {
      "image/png": "[encoded data removed]",
      "text/plain": [
       "<matplotlib.figure.Figure at 0x23510405908>"
      ]
     },
     "metadata": {},
     "output_type": "display_data"
    }
   ],
   "source": [
    "import matplotlib.pyplot as plt\n",
    "\n",
    "plt.figure(figsize=(12, 8))\n",
    "plt.title(\"Score\")\n",
    "plt.barh(indices, score, .2, label=\"score\", color='navy')\n",
    "plt.barh(indices + .3, training_time, .2, label=\"training time\",\n",
    "         color='c')\n",
    "plt.barh(indices + .6, test_time, .2, label=\"test time\", color='darkorange')\n",
    "#plt.xticks(())\n",
    "plt.legend(loc='best')\n",
    "plt.subplots_adjust(left=.25)\n",
    "plt.subplots_adjust(top=.95)\n",
    "plt.subplots_adjust(bottom=.05)\n",
    "for i, c in zip(indices, clf_names):\n",
    "    plt.text(-.3, i, c)\n",
    "plt.show()"
   ]
  },
  {
   "cell_type": "code",
   "execution_count": null,
   "metadata": {
    "collapsed": true
   },
   "outputs": [],
   "source": []
  }
 ],
 "metadata": {
  "kernelspec": {
   "display_name": "Python 3",
   "language": "python",
   "name": "python3"
  },
  "language_info": {
   "codemirror_mode": {
    "name": "ipython",
    "version": 3
   },
   "file_extension": ".py",
   "mimetype": "text/x-python",
   "name": "python",
   "nbconvert_exporter": "python",
   "pygments_lexer": "ipython3",
   "version": "3.6.0"
  }
 },
 "nbformat": 4,
 "nbformat_minor": 2
}
