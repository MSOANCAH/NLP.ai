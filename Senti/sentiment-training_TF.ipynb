{
 "cells": [
  {
   "cell_type": "code",
   "execution_count": 1,
   "metadata": {
    "collapsed": false
   },
   "outputs": [],
   "source": [
    "import nltk\n",
    "from nltk.tokenize import word_tokenize\n",
    "import numpy as np\n",
    "import random\n",
    "import pickle\n",
    "from collections import Counter\n",
    "from nltk.stem import WordNetLemmatizer\n",
    "lemmatizer = WordNetLemmatizer()\n",
    "\n",
    "import os\n",
    "os.chdir(\"C:/Users/Madhu/NLP/Senti\")\n",
    "pos_data = \"pos.txt\"\n",
    "neg_data = \"neg.txt\"\n",
    "\n",
    "max_lines=100000"
   ]
  },
  {
   "cell_type": "code",
   "execution_count": 2,
   "metadata": {
    "collapsed": true
   },
   "outputs": [],
   "source": [
    "def create_lexicon(pos,neg):\n",
    "    \n",
    "    lexicon=[]\n",
    "    \n",
    "    with open(pos,\"r\") as pos_f:\n",
    "        lines = pos_f.readlines()\n",
    "        \n",
    "        for line in lines[:max_lines]:\n",
    "            tokens=word_tokenize(line)\n",
    "            lexicon+=list(tokens)\n",
    "    \n",
    "    with open(neg,\"r\") as neg_f:\n",
    "        lines = neg_f.readlines()\n",
    "        \n",
    "        for line in lines[:max_lines]:\n",
    "            tokens=word_tokenize(line)\n",
    "            lexicon+=list(tokens)\n",
    "            \n",
    "    lexicon = [lemmatizer.lemmatize(word) for word in lexicon]\n",
    "    words_count = Counter(lexicon)\n",
    "    \n",
    "    w_count_filter = []\n",
    "    for word_count in words_count:\n",
    "        if 1000 > words_count[word_count] > 50:\n",
    "            w_count_filter.append(word_count)\n",
    "            \n",
    "    return w_count_filter\n",
    "\n",
    "def sample_handling(file,lexicon,classification):\n",
    "\n",
    "    featureset = []\n",
    "\n",
    "    with open(file,'r') as f:\n",
    "        lines = f.readlines()\n",
    "        \n",
    "        for line in lines[:max_lines]:\n",
    "            tokens = word_tokenize(line.lower())\n",
    "            tokens = [lemmatizer.lemmatize(word) for word in tokens]\n",
    "            \n",
    "            features = np.zeros(len(lexicon))\n",
    "            for word in tokens:\n",
    "                if word.lower() in lexicon:\n",
    "                    index_value = lexicon.index(word.lower())\n",
    "                    features[index_value] += 1\n",
    "\n",
    "            features = list(features)\n",
    "            featureset.append([features,classification])\n",
    "\n",
    "    return featureset\n",
    "\n",
    "def create_feature_sets_and_labels(test_size=0.1):\n",
    "    \n",
    "    lexicon = create_lexicon(pos_data,neg_data)\n",
    "    \n",
    "    features = []\n",
    "    \n",
    "    features += sample_handling(pos_data,lexicon,[1,0])\n",
    "    features += sample_handling(neg_data,lexicon,[0,1])\n",
    "    \n",
    "    random.shuffle(features)\n",
    "    features = np.array(features)\n",
    "    \n",
    "    \n",
    "    testing_size = int(test_size*len(features))\n",
    "\n",
    "    train_x = list(features[:,0][:-testing_size])\n",
    "    train_y = list(features[:,1][:-testing_size])\n",
    "    \n",
    "    test_x = list(features[:,0][-testing_size:])\n",
    "    test_y = list(features[:,1][-testing_size:])\n",
    "\n",
    "    return train_x,train_y,test_x,test_y"
   ]
  },
  {
   "cell_type": "markdown",
   "metadata": {},
   "source": [
    "# Training in Tensor Flow"
   ]
  },
  {
   "cell_type": "code",
   "execution_count": 3,
   "metadata": {
    "collapsed": true
   },
   "outputs": [],
   "source": [
    "import tensorflow as tf\n",
    "\n",
    "train_X , train_Y , test_X , test_Y = create_feature_sets_and_labels()"
   ]
  },
  {
   "cell_type": "code",
   "execution_count": 4,
   "metadata": {
    "collapsed": false
   },
   "outputs": [],
   "source": [
    "X = tf.placeholder(\"float\")\n",
    "Y = tf.placeholder(\"float\")"
   ]
  },
  {
   "cell_type": "code",
   "execution_count": 5,
   "metadata": {
    "collapsed": true
   },
   "outputs": [],
   "source": [
    "W_H1 = tf.Variable(tf.random_normal([len(train_X[0]),1625]))\n",
    "W_H2 = tf.Variable(tf.random_normal([1625,1625]))\n",
    "W_H3 = tf.Variable(tf.random_normal([1625,1625]))\n",
    "W_O =  tf.Variable(tf.random_normal([1625,2]))"
   ]
  },
  {
   "cell_type": "code",
   "execution_count": 6,
   "metadata": {
    "collapsed": true
   },
   "outputs": [],
   "source": [
    "def model(X, W_H1, W_H2,W_H3, W_O):\n",
    "    \n",
    "    h1 = tf.nn.relu(tf.matmul(X,W_H1))\n",
    "    h2 = tf.nn.relu(tf.matmul(h1,W_H2))\n",
    "    h3 = tf.nn.relu(tf.matmul(h2,W_H3))\n",
    "    o = tf.matmul(h3,W_O)\n",
    "    \n",
    "    return o"
   ]
  },
  {
   "cell_type": "code",
   "execution_count": 7,
   "metadata": {
    "collapsed": false
   },
   "outputs": [],
   "source": [
    "Y_pred = model(X, W_H1, W_H2,W_H3, W_O)"
   ]
  },
  {
   "cell_type": "code",
   "execution_count": 8,
   "metadata": {
    "collapsed": false
   },
   "outputs": [],
   "source": [
    "#cost function\n",
    "cost = tf.reduce_mean(tf.nn.softmax_cross_entropy_with_logits(logits=Y_pred, labels=Y))\n",
    " # compute mean cross entropy (softmax is applied internally)"
   ]
  },
  {
   "cell_type": "code",
   "execution_count": 9,
   "metadata": {
    "collapsed": false
   },
   "outputs": [],
   "source": [
    "optimizer = tf.train.GradientDescentOptimizer(0.001).minimize(cost)"
   ]
  },
  {
   "cell_type": "code",
   "execution_count": 10,
   "metadata": {
    "collapsed": false,
    "scrolled": false
   },
   "outputs": [
    {
     "name": "stdout",
     "output_type": "stream",
     "text": [
      "Epoch 1 completed out of 15 loss: 2025286.99146\n",
      "Epoch 2 completed out of 15 loss: 98842.8157501\n",
      "Epoch 3 completed out of 15 loss: 24705.1590424\n",
      "Epoch 4 completed out of 15 loss: 11694.4422455\n",
      "Epoch 5 completed out of 15 loss: 5011.83792019\n",
      "Epoch 6 completed out of 15 loss: 2577.47369814\n",
      "Epoch 7 completed out of 15 loss: 1637.79358387\n",
      "Epoch 8 completed out of 15 loss: 1158.10869781\n",
      "Epoch 9 completed out of 15 loss: 949.821534193\n",
      "Epoch 10 completed out of 15 loss: 781.919290616\n",
      "Epoch 11 completed out of 15 loss: 723.038212102\n",
      "Epoch 12 completed out of 15 loss: 660.730764009\n",
      "Epoch 13 completed out of 15 loss: 637.133991666\n",
      "Epoch 14 completed out of 15 loss: 645.379779585\n",
      "Epoch 15 completed out of 15 loss: 621.367512938\n",
      "Accuracy: 0.575985\n"
     ]
    }
   ],
   "source": [
    "epochs = 15\n",
    "batch_size = 100\n",
    "with tf.Session() as sess:\n",
    "    sess.run(tf.global_variables_initializer())\n",
    "    \n",
    "    for epoch in range(epochs):\n",
    "        epoch_loss = 0\n",
    "        i=0\n",
    "        while i < len(train_X):\n",
    "            start = i\n",
    "            end = i+batch_size\n",
    "            batch_x = train_X[start:end]\n",
    "            batch_y = train_Y[start:end]\n",
    "\n",
    "            _, c = sess.run([optimizer, cost], feed_dict={X: batch_x, Y: batch_y})\n",
    "            epoch_loss += c\n",
    "            i+=batch_size\n",
    "                \n",
    "        print('Epoch', epoch+1, 'completed out of',epochs,'loss:',epoch_loss)\n",
    "    \n",
    "    \n",
    "    correct = tf.equal(tf.argmax(Y_pred, 1), tf.argmax(Y, 1))\n",
    "    accuracy = tf.reduce_mean(tf.cast(correct, 'float'))\n",
    "\n",
    "    print('Accuracy:',accuracy.eval({X:test_X, Y:test_Y}))\n",
    "\n",
    "            \n",
    "        "
   ]
  },
  {
   "cell_type": "code",
   "execution_count": null,
   "metadata": {
    "collapsed": true
   },
   "outputs": [],
   "source": []
  }
 ],
 "metadata": {
  "kernelspec": {
   "display_name": "Python 3",
   "language": "python",
   "name": "python3"
  },
  "language_info": {
   "codemirror_mode": {
    "name": "ipython",
    "version": 3
   },
   "file_extension": ".py",
   "mimetype": "text/x-python",
   "name": "python",
   "nbconvert_exporter": "python",
   "pygments_lexer": "ipython3",
   "version": "3.6.0"
  }
 },
 "nbformat": 4,
 "nbformat_minor": 2
}
