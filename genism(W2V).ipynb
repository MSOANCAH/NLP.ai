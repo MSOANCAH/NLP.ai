{
 "cells": [
  {
   "cell_type": "code",
   "execution_count": 1,
   "metadata": {
    "collapsed": false
   },
   "outputs": [
    {
     "name": "stderr",
     "output_type": "stream",
     "text": [
      "C:\\Users\\Madhu\\AppData\\Local\\Continuum\\Anaconda3\\lib\\site-packages\\gensim\\utils.py:860: UserWarning: detected Windows; aliasing chunkize to chunkize_serial\n",
      "  warnings.warn(\"detected Windows; aliasing chunkize to chunkize_serial\")\n",
      "Using TensorFlow backend.\n"
     ]
    }
   ],
   "source": [
    "from gensim.models import Word2Vec\n",
    "from nltk.corpus import brown, movie_reviews, treebank\n",
    "\n",
    "b = Word2Vec(brown.sents())\n",
    "mr = Word2Vec(movie_reviews.sents())\n",
    "t = Word2Vec(treebank.sents())\n"
   ]
  },
  {
   "cell_type": "code",
   "execution_count": 2,
   "metadata": {
    "collapsed": false,
    "scrolled": false
   },
   "outputs": [
    {
     "data": {
      "text/plain": [
       "[('care', 0.9162325859069824),\n",
       " ('chance', 0.9033101797103882),\n",
       " ('job', 0.8962575793266296),\n",
       " ('trouble', 0.865729570388794),\n",
       " ('everything', 0.8608913421630859)]"
      ]
     },
     "execution_count": 2,
     "metadata": {},
     "output_type": "execute_result"
    }
   ],
   "source": [
    "b.most_similar('money', topn=5)"
   ]
  },
  {
   "cell_type": "code",
   "execution_count": 3,
   "metadata": {
    "collapsed": false
   },
   "outputs": [
    {
     "data": {
      "text/plain": [
       "[('attention', 0.7720243334770203),\n",
       " ('eyes', 0.7613162994384766),\n",
       " ('chance', 0.7575225830078125),\n",
       " ('him', 0.7413977384567261),\n",
       " ('home', 0.7171825170516968)]"
      ]
     },
     "execution_count": 3,
     "metadata": {},
     "output_type": "execute_result"
    }
   ],
   "source": [
    "mr.most_similar('money', topn=5)"
   ]
  },
  {
   "cell_type": "code",
   "execution_count": 4,
   "metadata": {
    "collapsed": false
   },
   "outputs": [
    {
     "data": {
      "text/plain": [
       "[(\"'\", 0.9998846054077148),\n",
       " ('Department', 0.9998763203620911),\n",
       " ('new', 0.9998719096183777),\n",
       " ('only', 0.999869704246521),\n",
       " ('all', 0.9998676776885986)]"
      ]
     },
     "execution_count": 4,
     "metadata": {},
     "output_type": "execute_result"
    }
   ],
   "source": [
    "t.most_similar('money', topn=5)"
   ]
  },
  {
   "cell_type": "code",
   "execution_count": 5,
   "metadata": {
    "collapsed": false
   },
   "outputs": [
    {
     "data": {
      "text/plain": [
       "[('experience', 0.8813475370407104),\n",
       " ('common', 0.8701456785202026),\n",
       " ('limited', 0.8338633179664612),\n",
       " ('part', 0.8250170946121216),\n",
       " ('life', 0.8192691802978516)]"
      ]
     },
     "execution_count": 5,
     "metadata": {},
     "output_type": "execute_result"
    }
   ],
   "source": [
    "b.most_similar('great', topn=5)"
   ]
  },
  {
   "cell_type": "code",
   "execution_count": 6,
   "metadata": {
    "collapsed": false
   },
   "outputs": [
    {
     "data": {
      "text/plain": [
       "[('nice', 0.842928409576416),\n",
       " ('decent', 0.8070847392082214),\n",
       " ('wonderful', 0.8012890219688416),\n",
       " ('good', 0.7824029922485352),\n",
       " ('strong', 0.7726178169250488)]"
      ]
     },
     "execution_count": 6,
     "metadata": {},
     "output_type": "execute_result"
    }
   ],
   "source": [
    "mr.most_similar('great', topn=5)"
   ]
  },
  {
   "cell_type": "code",
   "execution_count": 7,
   "metadata": {
    "collapsed": false
   },
   "outputs": [
    {
     "data": {
      "text/plain": [
       "[('if', 0.9991433024406433),\n",
       " ('no', 0.9991424679756165),\n",
       " ('what', 0.9991087913513184),\n",
       " ('we', 0.9991076588630676),\n",
       " ('people', 0.999099850654602)]"
      ]
     },
     "execution_count": 7,
     "metadata": {},
     "output_type": "execute_result"
    }
   ],
   "source": [
    "t.most_similar('great', topn=5)"
   ]
  },
  {
   "cell_type": "code",
   "execution_count": 8,
   "metadata": {
    "collapsed": false,
    "scrolled": false
   },
   "outputs": [],
   "source": [
    "vocab=t.wv.vocab \n",
    "labels=[]  # words (keys in vocub)\n",
    "for key in vocab:\n",
    "    labels.append(key)"
   ]
  },
  {
   "cell_type": "code",
   "execution_count": 9,
   "metadata": {
    "collapsed": false
   },
   "outputs": [
    {
     "data": {
      "text/plain": [
       "[',', '61', 'years', 'old', 'will', 'the', 'board', 'as', 'a', 'nonexecutive']"
      ]
     },
     "execution_count": 9,
     "metadata": {},
     "output_type": "execute_result"
    }
   ],
   "source": [
    "label=labels[0:10]\n",
    "label"
   ]
  },
  {
   "cell_type": "code",
   "execution_count": 10,
   "metadata": {
    "collapsed": false
   },
   "outputs": [
    {
     "name": "stdout",
     "output_type": "stream",
     "text": [
      "[('if', 0.9991433024406433), ('no', 0.9991424679756165), ('what', 0.9991087913513184), ('we', 0.9991076588630676), ('people', 0.999099850654602)]\n"
     ]
    }
   ],
   "source": [
    "from sklearn.manifold import TSNE #for plotting\n",
    "import matplotlib.pyplot as plt\n",
    "\n",
    "print (t.most_similar('great' , topn=5))\n",
    "\n",
    "X = t[t.wv.vocab] #t.wv.vocab --> dict of words and vectors (vocublury)\n",
    "                  # X--> word vector object -->numpy array vectors\n",
    "    \n",
    "tsne = TSNE(n_components=2)\n",
    "X_tsne = tsne.fit_transform(X)\n"
   ]
  },
  {
   "cell_type": "code",
   "execution_count": 11,
   "metadata": {
    "collapsed": false
   },
   "outputs": [
    {
     "data": {
      "text/plain": [
       "array([ 0.74888655, -0.07577975])"
      ]
     },
     "execution_count": 11,
     "metadata": {},
     "output_type": "execute_result"
    }
   ],
   "source": [
    "X_tsne[1]"
   ]
  },
  {
   "cell_type": "code",
   "execution_count": 12,
   "metadata": {
    "collapsed": false
   },
   "outputs": [
    {
     "data": {
      "image/png": "[encoded data removed]",
      "text/plain": [
       "<matplotlib.figure.Figure at 0x1736af7fd68>"
      ]
     },
     "metadata": {},
     "output_type": "display_data"
    }
   ],
   "source": [
    " for i, label in enumerate(label): #plotting first 10 words in dict(vocab) \n",
    "        q,w=X_tsne[i,:]\n",
    "        plt.scatter(q, w)\n",
    "        plt.annotate(label, xy=(q, w), xytext=(5, 2),\n",
    "            textcoords='offset points', ha='right', va='bottom')\n",
    "plt.show()\n",
    "        "
   ]
  },
  {
   "cell_type": "code",
   "execution_count": 13,
   "metadata": {
    "collapsed": false
   },
   "outputs": [],
   "source": [
    "#plotting output vectors\n",
    "output=t.most_similar('bad', topn=5)"
   ]
  },
  {
   "cell_type": "code",
   "execution_count": 14,
   "metadata": {
    "collapsed": false
   },
   "outputs": [
    {
     "data": {
      "text/plain": [
       "[('like', 0.9983766674995422),\n",
       " ('make', 0.998309314250946),\n",
       " ('when', 0.9982990622520447),\n",
       " ('take', 0.9982855319976807),\n",
       " ('his', 0.9982786774635315)]"
      ]
     },
     "execution_count": 14,
     "metadata": {},
     "output_type": "execute_result"
    }
   ],
   "source": [
    "output"
   ]
  },
  {
   "cell_type": "code",
   "execution_count": 15,
   "metadata": {
    "collapsed": false
   },
   "outputs": [
    {
     "data": {
      "text/plain": [
       "['bad', 'like', 'make', 'when', 'take', 'his']"
      ]
     },
     "execution_count": 15,
     "metadata": {},
     "output_type": "execute_result"
    }
   ],
   "source": [
    "wvlist=['bad']\n",
    "for i in output:\n",
    "    wvlist.append(i[0])\n",
    "wvlist"
   ]
  },
  {
   "cell_type": "code",
   "execution_count": 16,
   "metadata": {
    "collapsed": false
   },
   "outputs": [
    {
     "data": {
      "text/plain": [
       "[1044, 451, 37, 510, 677, 766]"
      ]
     },
     "execution_count": 16,
     "metadata": {},
     "output_type": "execute_result"
    }
   ],
   "source": [
    "keyindexvocab=[]\n",
    "for i in wvlist:\n",
    "    keyindexvocab.append(list(vocab.keys()).index(i))\n",
    "keyindexvocab"
   ]
  },
  {
   "cell_type": "code",
   "execution_count": 17,
   "metadata": {
    "collapsed": false
   },
   "outputs": [
    {
     "data": {
      "image/png": "[encoded data removed]",
      "text/plain": [
       "<matplotlib.figure.Figure at 0x1736b3172e8>"
      ]
     },
     "metadata": {},
     "output_type": "display_data"
    }
   ],
   "source": [
    "for i,label in zip(keyindexvocab,wvlist):\n",
    "    x,y=X_tsne[i,0],X_tsne[i,1]\n",
    "    plt.scatter(x,y)\n",
    "    plt.annotate(label, xy=(x, y), xytext=(5, 2),\n",
    "            textcoords='offset points', ha='right', va='bottom')\n",
    "plt.show()\n",
    "    "
   ]
  },
  {
   "cell_type": "code",
   "execution_count": null,
   "metadata": {
    "collapsed": true
   },
   "outputs": [],
   "source": []
  }
 ],
 "metadata": {
  "kernelspec": {
   "display_name": "Python 3",
   "language": "python",
   "name": "python3"
  },
  "language_info": {
   "codemirror_mode": {
    "name": "ipython",
    "version": 3
   },
   "file_extension": ".py",
   "mimetype": "text/x-python",
   "name": "python",
   "nbconvert_exporter": "python",
   "pygments_lexer": "ipython3",
   "version": "3.6.0"
  }
 },
 "nbformat": 4,
 "nbformat_minor": 2
}
